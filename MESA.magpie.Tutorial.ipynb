{
 "cells": [
  {
   "cell_type": "code",
   "execution_count": null,
   "metadata": {
    "collapsed": true
   },
   "outputs": [],
   "source": [
    "# instead of messing with the PYTHONPATH, you may hack the path to get to the \n",
    "# lib quicker\n",
    "# import sys\n",
    "# sys.path.append(\"path/to/magpie.py\")\n",
    "import magpie as mp\n",
    "import qgrid\n",
    "# Let's use the fiducial example: star/test_suite/1M_pre_ms_to_wd\n",
    "mesadir = mp.os.environ.get('MESA_DIR')\n",
    "# mp.os.environ['MESA_DIR']= '/lustre/atlas/proj-shared/csc198/frivas/02.code/mesa'\n",
    "lookInInlist = mesadir + \"/star/test_suite/1M_pre_ms_to_wd/inlist_1.0\""
   ]
  },
  {
   "cell_type": "code",
   "execution_count": null,
   "metadata": {
    "collapsed": true
   },
   "outputs": [],
   "source": [
    "# we start a parGroup object first and fill it with our inlist\n",
    "PGroup = mp.parameterGroup()\n",
    "PGroup.readInlist(lookInInlist)"
   ]
  },
  {
   "cell_type": "code",
   "execution_count": null,
   "metadata": {
    "collapsed": true,
    "scrolled": true
   },
   "outputs": [],
   "source": [
    "# next, we show a table with all the parameters :D, you can double click on \n",
    "# any value to change it.\n",
    "qg = qgrid.QgridWidget(df=PGroup.quickLook())\n",
    "qg"
   ]
  },
  {
   "cell_type": "code",
   "execution_count": null,
   "metadata": {
    "collapsed": true
   },
   "outputs": [],
   "source": [
    "# Once we're happy with the changes. We refresh the object.\n",
    "PGroup.readChanges(qg.get_changed_df())"
   ]
  },
  {
   "cell_type": "code",
   "execution_count": null,
   "metadata": {
    "collapsed": true
   },
   "outputs": [],
   "source": [
    "# now we need a folder to put these inlists into so lets do that by \n",
    "# copying the star/work folder to a folder of our choice\n",
    "destination = \"./mynewrun\"\n",
    "mp.setupMESArun(destination, clobber=True)\n",
    "\n",
    "# and put the inlists in there\n",
    "PGroup.writeInlists(destination)"
   ]
  },
  {
   "cell_type": "code",
   "execution_count": null,
   "metadata": {},
   "outputs": [],
   "source": [
    "# Great, so now, all that's left is to compile\n",
    "mp.compileMESA(destination)"
   ]
  },
  {
   "cell_type": "code",
   "execution_count": null,
   "metadata": {
    "collapsed": true
   },
   "outputs": [],
   "source": [
    "# What if I want to add or see more parameters?\n",
    "# well, that's where tabulate comes in. So again we init a parGroup object and \n",
    "# read-in the inlist\n",
    "pg2 = mp.parameterGroup()\n",
    "pg2.readInlist(lookInInlist)\n",
    "\n",
    "# this time, we read the defaults\n",
    "pg2.readDefaults()\n",
    "\n",
    "# and use tabulate with our pick of parameter type\n",
    "df = pg2.tabulate('controls')"
   ]
  },
  {
   "cell_type": "code",
   "execution_count": null,
   "metadata": {
    "collapsed": true
   },
   "outputs": [],
   "source": [
    "# display it through qgrid, and edit \"a gusto\". Note that one can filter the \n",
    "# parameters with the widget and also now we have docstrings!\n",
    "qg = qgrid.QgridWidget(df=df)\n",
    "qg"
   ]
  },
  {
   "cell_type": "code",
   "execution_count": null,
   "metadata": {
    "collapsed": true
   },
   "outputs": [],
   "source": [
    "# Once we're happy with the changes. We refresh the object.\n",
    "pg2.readChanges(qg.get_changed_df())"
   ]
  },
  {
   "cell_type": "code",
   "execution_count": null,
   "metadata": {
    "collapsed": true
   },
   "outputs": [],
   "source": [
    "# Wait! I forgot what I've changed!\n",
    "# No problemo. just get a quickLook and you'll only see what's been edited ;D\n",
    "df = pg2.quickLook()\n",
    "qg = qgrid.QgridWidget(df=df)\n",
    "qg"
   ]
  },
  {
   "cell_type": "code",
   "execution_count": null,
   "metadata": {},
   "outputs": [],
   "source": [
    "# or if youre in a hurry, get the dict directly by its type\n",
    "pg2['controls'].items()"
   ]
  }
 ],
 "metadata": {
  "kernelspec": {
   "display_name": "Python 2",
   "language": "python",
   "name": "python2"
  },
  "language_info": {
   "codemirror_mode": {
    "name": "ipython",
    "version": 2
   },
   "file_extension": ".py",
   "mimetype": "text/x-python",
   "name": "python",
   "nbconvert_exporter": "python",
   "pygments_lexer": "ipython2",
   "version": "2.7.13"
  },
  "varInspector": {
   "cols": {
    "lenName": 16,
    "lenType": 16,
    "lenVar": 40
   },
   "kernels_config": {
    "python": {
     "delete_cmd_postfix": "",
     "delete_cmd_prefix": "del ",
     "library": "var_list.py",
     "varRefreshCmd": "print(var_dic_list())"
    },
    "r": {
     "delete_cmd_postfix": ") ",
     "delete_cmd_prefix": "rm(",
     "library": "var_list.r",
     "varRefreshCmd": "cat(var_dic_list()) "
    }
   },
   "types_to_exclude": [
    "module",
    "function",
    "builtin_function_or_method",
    "instance",
    "_Feature"
   ],
   "window_display": false
  }
 },
 "nbformat": 4,
 "nbformat_minor": 2
}
